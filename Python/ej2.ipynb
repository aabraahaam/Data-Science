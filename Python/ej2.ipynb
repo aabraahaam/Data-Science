{
 "cells": [
  {
   "cell_type": "markdown",
   "metadata": {},
   "source": [
    "#  Ejercicios "
   ]
  },
  {
   "cell_type": "markdown",
   "metadata": {},
   "source": [
    "#### 1 Ejercicio"
   ]
  },
  {
   "cell_type": "markdown",
   "metadata": {},
   "source": [
    "Dada la lista L = [ 1, 2, 3, 4, 5, 6, 7, 8, 9 ], escribe expresiones en Python que produzcan los siguientes resultados:\n",
    "\n",
    "1. El primer elemento de la lista.\n",
    "2. El último elemento de la lista (Sin conocer la longitud de la lista).\n",
    "3. La sublista con los dos últimos elementos. (Sol: [8, 9])\n",
    "4. La sublista de los elementos que ocupan posiciones pares. (Sol: [1, 3, 5, 7, 9])\n",
    "4. La sublista de los elementos que ocupan posiciones impares. (Sol: [2, 4, 6, 8])"
   ]
  },
  {
   "cell_type": "code",
   "execution_count": 2,
   "metadata": {},
   "outputs": [
    {
     "data": {
      "text/plain": [
       "1"
      ]
     },
     "execution_count": 2,
     "metadata": {},
     "output_type": "execute_result"
    }
   ],
   "source": [
    "# Sol 1: \n",
    "L= [ 1, 2, 3, 4, 5, 6, 7, 8, 9 ]\n",
    "L[0]"
   ]
  },
  {
   "cell_type": "code",
   "execution_count": 3,
   "metadata": {},
   "outputs": [
    {
     "data": {
      "text/plain": [
       "9"
      ]
     },
     "execution_count": 3,
     "metadata": {},
     "output_type": "execute_result"
    }
   ],
   "source": [
    "# Sol 2: \n",
    "L[-1]"
   ]
  },
  {
   "cell_type": "code",
   "execution_count": 5,
   "metadata": {},
   "outputs": [
    {
     "data": {
      "text/plain": [
       "[8, 9]"
      ]
     },
     "execution_count": 5,
     "metadata": {},
     "output_type": "execute_result"
    }
   ],
   "source": [
    "# Sol 3: \n",
    "L[-2:]"
   ]
  },
  {
   "cell_type": "code",
   "execution_count": 10,
   "metadata": {},
   "outputs": [
    {
     "data": {
      "text/plain": [
       "[1, 3, 5, 7, 9]"
      ]
     },
     "execution_count": 10,
     "metadata": {},
     "output_type": "execute_result"
    }
   ],
   "source": [
    "# Sol 4: \n",
    "L[::2]"
   ]
  },
  {
   "cell_type": "code",
   "execution_count": 15,
   "metadata": {},
   "outputs": [
    {
     "data": {
      "text/plain": [
       "[2, 4, 6, 8]"
      ]
     },
     "execution_count": 15,
     "metadata": {},
     "output_type": "execute_result"
    }
   ],
   "source": [
    "# Sol 5: \n",
    "L[1::2]"
   ]
  },
  {
   "cell_type": "markdown",
   "metadata": {},
   "source": [
    "#### 2 Ejercicio"
   ]
  },
  {
   "cell_type": "markdown",
   "metadata": {},
   "source": [
    "Dada una lista de enteros a y un número entero n, define:\n",
    "1. una función llamada __contar__ que calcule el número de veces que se repite n en a.\n",
    "2. una función llamada __porcentaje__ que calcule el porcentaje de veces que se repite n en a.\n",
    "\n",
    "_Nota_: utiliza los métodos __len__ y __count__. \n",
    "* Puedes ejecutar __list.count?__ para obtener ayuda del método __count__.\n",
    "* Puedes ejecutar __help(list.count)__ para obtener ayuda del método __count__."
   ]
  },
  {
   "cell_type": "code",
   "execution_count": 20,
   "metadata": {},
   "outputs": [
    {
     "data": {
      "text/plain": [
       "3"
      ]
     },
     "execution_count": 20,
     "metadata": {},
     "output_type": "execute_result"
    }
   ],
   "source": [
    "# Sol: \n",
    "def contar(n,a):\n",
    "    respuesta=0\n",
    "    for i in a:\n",
    "        if n==i:\n",
    "            respuesta=respuesta+1\n",
    "    return respuesta\n",
    "m = [1, 2, 3, 4, 5, 6, 7, 8, 9, 0, 2, 4, 6, 8, 1, 4]\n",
    "contar(4,m)\n",
    "            \n"
   ]
  },
  {
   "cell_type": "markdown",
   "metadata": {},
   "source": [
    "Prueba las funciones con los argumentos `a = m` y `n = 4`."
   ]
  },
  {
   "cell_type": "code",
   "execution_count": 21,
   "metadata": {},
   "outputs": [
    {
     "data": {
      "text/plain": [
       "3"
      ]
     },
     "execution_count": 21,
     "metadata": {},
     "output_type": "execute_result"
    }
   ],
   "source": [
    "# Sol: \n",
    "m = [1, 2, 3, 4, 5, 6, 7, 8, 9, 0, 2, 4, 6, 8, 1, 4]\n",
    "contar(4,m)"
   ]
  },
  {
   "cell_type": "markdown",
   "metadata": {},
   "source": [
    "#### 3 Ejercicio"
   ]
  },
  {
   "cell_type": "markdown",
   "metadata": {},
   "source": [
    "La función  __upper__ del tipo __string__ genera una nueva cadena de caracteres, donde todos los caracteres son mayúsculas.\n",
    "Dada la siguiente cadena:"
   ]
  },
  {
   "cell_type": "code",
   "execution_count": 22,
   "metadata": {},
   "outputs": [
    {
     "data": {
      "text/plain": [
       "'HOLA, ME LLAMO IÑIGO MONTOYA, TÚ MATASTE A MI PADRE. ... PREPÁRATE A MORIR'"
      ]
     },
     "execution_count": 22,
     "metadata": {},
     "output_type": "execute_result"
    }
   ],
   "source": [
    "# ejecuta esta celda\n",
    "s = 'Hola, me llamo Iñigo Montoya, tú mataste a mi padre. ... Prepárate a morir'\n",
    "s.upper()"
   ]
  },
  {
   "cell_type": "markdown",
   "metadata": {},
   "source": [
    "* Genera una cadena __t__ igual que __s__ pero en mayúsculas. Calcula la longitud de t.\n",
    "* Ejecuta la función  __split(',')__. Fíjate en lo que devuelve esa función. \n",
    "* Ejecuta la función __lower()__.\n",
    "* Ejecuta la función  __title()__.\n",
    "* Ejecuta __dir(str)__ para listar las funciones disponibles para trabajar con cadenas."
   ]
  },
  {
   "cell_type": "code",
   "execution_count": 30,
   "metadata": {},
   "outputs": [
    {
     "data": {
      "text/plain": [
       "'HOLA, ME LLAMO IÑIGO MONTOYA, TÚ MATASTE A MI PADRE. ... PREPÁRATE A MORIR'"
      ]
     },
     "execution_count": 30,
     "metadata": {},
     "output_type": "execute_result"
    }
   ],
   "source": [
    "# Sol: \n",
    "s = 'Hola, me llamo Iñigo Montoya, tú mataste a mi padre. ... Prepárate a morir'\n",
    "t=s.upper()\n",
    "t"
   ]
  },
  {
   "cell_type": "code",
   "execution_count": 27,
   "metadata": {},
   "outputs": [
    {
     "data": {
      "text/plain": [
       "74"
      ]
     },
     "execution_count": 27,
     "metadata": {},
     "output_type": "execute_result"
    }
   ],
   "source": [
    "len(t)"
   ]
  },
  {
   "cell_type": "code",
   "execution_count": 28,
   "metadata": {},
   "outputs": [
    {
     "data": {
      "text/plain": [
       "'hola, me llamo iñigo montoya, tú mataste a mi padre. ... prepárate a morir'"
      ]
     },
     "execution_count": 28,
     "metadata": {},
     "output_type": "execute_result"
    }
   ],
   "source": [
    "t.lower()"
   ]
  },
  {
   "cell_type": "code",
   "execution_count": 31,
   "metadata": {},
   "outputs": [
    {
     "data": {
      "text/plain": [
       "'Hola, Me Llamo Iñigo Montoya, Tú Mataste A Mi Padre. ... Prepárate A Morir'"
      ]
     },
     "execution_count": 31,
     "metadata": {},
     "output_type": "execute_result"
    }
   ],
   "source": [
    "t.title()"
   ]
  },
  {
   "cell_type": "code",
   "execution_count": 32,
   "metadata": {},
   "outputs": [
    {
     "data": {
      "text/plain": [
       "['__add__',\n",
       " '__class__',\n",
       " '__contains__',\n",
       " '__delattr__',\n",
       " '__dir__',\n",
       " '__doc__',\n",
       " '__eq__',\n",
       " '__format__',\n",
       " '__ge__',\n",
       " '__getattribute__',\n",
       " '__getitem__',\n",
       " '__getnewargs__',\n",
       " '__gt__',\n",
       " '__hash__',\n",
       " '__init__',\n",
       " '__init_subclass__',\n",
       " '__iter__',\n",
       " '__le__',\n",
       " '__len__',\n",
       " '__lt__',\n",
       " '__mod__',\n",
       " '__mul__',\n",
       " '__ne__',\n",
       " '__new__',\n",
       " '__reduce__',\n",
       " '__reduce_ex__',\n",
       " '__repr__',\n",
       " '__rmod__',\n",
       " '__rmul__',\n",
       " '__setattr__',\n",
       " '__sizeof__',\n",
       " '__str__',\n",
       " '__subclasshook__',\n",
       " 'capitalize',\n",
       " 'casefold',\n",
       " 'center',\n",
       " 'count',\n",
       " 'encode',\n",
       " 'endswith',\n",
       " 'expandtabs',\n",
       " 'find',\n",
       " 'format',\n",
       " 'format_map',\n",
       " 'index',\n",
       " 'isalnum',\n",
       " 'isalpha',\n",
       " 'isdecimal',\n",
       " 'isdigit',\n",
       " 'isidentifier',\n",
       " 'islower',\n",
       " 'isnumeric',\n",
       " 'isprintable',\n",
       " 'isspace',\n",
       " 'istitle',\n",
       " 'isupper',\n",
       " 'join',\n",
       " 'ljust',\n",
       " 'lower',\n",
       " 'lstrip',\n",
       " 'maketrans',\n",
       " 'partition',\n",
       " 'replace',\n",
       " 'rfind',\n",
       " 'rindex',\n",
       " 'rjust',\n",
       " 'rpartition',\n",
       " 'rsplit',\n",
       " 'rstrip',\n",
       " 'split',\n",
       " 'splitlines',\n",
       " 'startswith',\n",
       " 'strip',\n",
       " 'swapcase',\n",
       " 'title',\n",
       " 'translate',\n",
       " 'upper',\n",
       " 'zfill']"
      ]
     },
     "execution_count": 32,
     "metadata": {},
     "output_type": "execute_result"
    }
   ],
   "source": [
    "dir(str)"
   ]
  },
  {
   "cell_type": "markdown",
   "metadata": {},
   "source": [
    "#### 4 Ejercicio\n",
    "\n",
    "Dada la lista de las ciudades más pobladas de Italia __it__:\n",
    "\n",
    "it = [ 'Roma', 'Milán', 'Nápoles', 'Turín', 'Palermo' , 'Génova',\n",
    "      'Bolonia', 'Florencia', 'Bari', 'Catania']\n",
    "      \n",
    "* Crea un diccionario donde la clave sea la posición que ocupa cada ciudad en la lista. Para hacerlo sigue estas indicaciones:\n",
    "    * Crea una secuencia de enteros mediante la función __range__. El inicio de la secuencia es el cero y el fin de la secuencia es la longitud de la lista de poblaciones de Italia.\n",
    "    * Crea una lista __m__ de tuplas del tipo  (pos, ciudad). Utiliza la función __zip__.\n",
    "    * Utiliza la función __dict__ para construir el diccionario a partir de la lista __m__."
   ]
  },
  {
   "cell_type": "code",
   "execution_count": null,
   "metadata": {
    "collapsed": true
   },
   "outputs": [],
   "source": [
    "# El diccionario pedido tiene esta forma:\n",
    "\n",
    "\"\"\"\n",
    "{0: 'Roma',\n",
    " 1: 'Milán',\n",
    " 2: 'Nápoles',\n",
    " 3: 'Turín',\n",
    " 4: 'Palermo',\n",
    " 5: 'Génova',\n",
    " 6: 'Bolonia',\n",
    " 7: 'Florencia',\n",
    " 8: 'Bari',\n",
    " 9: 'Catania'}\n",
    "\"\"\""
   ]
  },
  {
   "cell_type": "code",
   "execution_count": 7,
   "metadata": {},
   "outputs": [
    {
     "data": {
      "text/plain": [
       "{1: 'Roma',\n",
       " 2: 'Milán',\n",
       " 3: 'Nápoles',\n",
       " 4: 'Turín',\n",
       " 5: 'Palermo',\n",
       " 6: 'Génova',\n",
       " 7: 'Bolonia',\n",
       " 8: 'Florencia',\n",
       " 9: 'Bari',\n",
       " 10: 'Catania'}"
      ]
     },
     "execution_count": 7,
     "metadata": {},
     "output_type": "execute_result"
    }
   ],
   "source": [
    "# Sol:\n",
    "clave=range(1,11)\n",
    "clave=list(clave)\n",
    "it = [ 'Roma', 'Milán', 'Nápoles', 'Turín', 'Palermo' , 'Génova', 'Bolonia', 'Florencia', 'Bari', 'Catania']\n",
    "m = zip(clave,it)\n",
    "m\n",
    "fin=dict(m)\n",
    "fin"
   ]
  },
  {
   "cell_type": "markdown",
   "metadata": {},
   "source": [
    "#### 5 Ejercicio\n",
    "\n",
    "La función __convertirF2C__ convierte grados Fahrenheit en grados centígrados. "
   ]
  },
  {
   "cell_type": "code",
   "execution_count": 1,
   "metadata": {
    "collapsed": true
   },
   "outputs": [],
   "source": [
    "# Ejecuta esta celda\n",
    "def convertirF2C(f):\n",
    "    return  ( f - 32 ) * 5 / 9"
   ]
  },
  {
   "cell_type": "markdown",
   "metadata": {},
   "source": [
    "* Utiliza la función __convertirF2C__ para generar la siguiente tabla de conversión:\n",
    "\n",
    "```\n",
    "0:º F = -17.8º C\n",
    "10:º F = -12.2º C\n",
    "20:º F = -6.7º C\n",
    "    ...\n",
    "100:º F = 37.8º C\n",
    "110:º F = 43.3º C\n",
    "120:º F = 48.9º C\n",
    "```\n",
    "\n",
    "__Nota__:\n",
    "* Genera la lista de valores [0, ... , 120] con la función __range__.\n",
    "* Utiliza un bucle __for__ para calcular los grados centígrados de cada elemento de la lista de valores.\n",
    "* Utiliza los operadores de formato `%d` y `%.1f` para escribir los resultados."
   ]
  },
  {
   "cell_type": "code",
   "execution_count": 2,
   "metadata": {},
   "outputs": [
    {
     "name": "stdout",
     "output_type": "stream",
     "text": [
      "0 grados Farenheit son -17.8 grados Centigrados\n",
      "1 grados Farenheit son -17.2 grados Centigrados\n",
      "2 grados Farenheit son -16.7 grados Centigrados\n",
      "3 grados Farenheit son -16.1 grados Centigrados\n",
      "4 grados Farenheit son -15.6 grados Centigrados\n",
      "5 grados Farenheit son -15.0 grados Centigrados\n",
      "6 grados Farenheit son -14.4 grados Centigrados\n",
      "7 grados Farenheit son -13.9 grados Centigrados\n",
      "8 grados Farenheit son -13.3 grados Centigrados\n",
      "9 grados Farenheit son -12.8 grados Centigrados\n",
      "10 grados Farenheit son -12.2 grados Centigrados\n",
      "11 grados Farenheit son -11.7 grados Centigrados\n",
      "12 grados Farenheit son -11.1 grados Centigrados\n",
      "13 grados Farenheit son -10.6 grados Centigrados\n",
      "14 grados Farenheit son -10.0 grados Centigrados\n",
      "15 grados Farenheit son -9.4 grados Centigrados\n",
      "16 grados Farenheit son -8.9 grados Centigrados\n",
      "17 grados Farenheit son -8.3 grados Centigrados\n",
      "18 grados Farenheit son -7.8 grados Centigrados\n",
      "19 grados Farenheit son -7.2 grados Centigrados\n",
      "20 grados Farenheit son -6.7 grados Centigrados\n",
      "21 grados Farenheit son -6.1 grados Centigrados\n",
      "22 grados Farenheit son -5.6 grados Centigrados\n",
      "23 grados Farenheit son -5.0 grados Centigrados\n",
      "24 grados Farenheit son -4.4 grados Centigrados\n",
      "25 grados Farenheit son -3.9 grados Centigrados\n",
      "26 grados Farenheit son -3.3 grados Centigrados\n",
      "27 grados Farenheit son -2.8 grados Centigrados\n",
      "28 grados Farenheit son -2.2 grados Centigrados\n",
      "29 grados Farenheit son -1.7 grados Centigrados\n",
      "30 grados Farenheit son -1.1 grados Centigrados\n",
      "31 grados Farenheit son -0.6 grados Centigrados\n",
      "32 grados Farenheit son 0.0 grados Centigrados\n",
      "33 grados Farenheit son 0.6 grados Centigrados\n",
      "34 grados Farenheit son 1.1 grados Centigrados\n",
      "35 grados Farenheit son 1.7 grados Centigrados\n",
      "36 grados Farenheit son 2.2 grados Centigrados\n",
      "37 grados Farenheit son 2.8 grados Centigrados\n",
      "38 grados Farenheit son 3.3 grados Centigrados\n",
      "39 grados Farenheit son 3.9 grados Centigrados\n",
      "40 grados Farenheit son 4.4 grados Centigrados\n",
      "41 grados Farenheit son 5.0 grados Centigrados\n",
      "42 grados Farenheit son 5.6 grados Centigrados\n",
      "43 grados Farenheit son 6.1 grados Centigrados\n",
      "44 grados Farenheit son 6.7 grados Centigrados\n",
      "45 grados Farenheit son 7.2 grados Centigrados\n",
      "46 grados Farenheit son 7.8 grados Centigrados\n",
      "47 grados Farenheit son 8.3 grados Centigrados\n",
      "48 grados Farenheit son 8.9 grados Centigrados\n",
      "49 grados Farenheit son 9.4 grados Centigrados\n",
      "50 grados Farenheit son 10.0 grados Centigrados\n",
      "51 grados Farenheit son 10.6 grados Centigrados\n",
      "52 grados Farenheit son 11.1 grados Centigrados\n",
      "53 grados Farenheit son 11.7 grados Centigrados\n",
      "54 grados Farenheit son 12.2 grados Centigrados\n",
      "55 grados Farenheit son 12.8 grados Centigrados\n",
      "56 grados Farenheit son 13.3 grados Centigrados\n",
      "57 grados Farenheit son 13.9 grados Centigrados\n",
      "58 grados Farenheit son 14.4 grados Centigrados\n",
      "59 grados Farenheit son 15.0 grados Centigrados\n",
      "60 grados Farenheit son 15.6 grados Centigrados\n",
      "61 grados Farenheit son 16.1 grados Centigrados\n",
      "62 grados Farenheit son 16.7 grados Centigrados\n",
      "63 grados Farenheit son 17.2 grados Centigrados\n",
      "64 grados Farenheit son 17.8 grados Centigrados\n",
      "65 grados Farenheit son 18.3 grados Centigrados\n",
      "66 grados Farenheit son 18.9 grados Centigrados\n",
      "67 grados Farenheit son 19.4 grados Centigrados\n",
      "68 grados Farenheit son 20.0 grados Centigrados\n",
      "69 grados Farenheit son 20.6 grados Centigrados\n",
      "70 grados Farenheit son 21.1 grados Centigrados\n",
      "71 grados Farenheit son 21.7 grados Centigrados\n",
      "72 grados Farenheit son 22.2 grados Centigrados\n",
      "73 grados Farenheit son 22.8 grados Centigrados\n",
      "74 grados Farenheit son 23.3 grados Centigrados\n",
      "75 grados Farenheit son 23.9 grados Centigrados\n",
      "76 grados Farenheit son 24.4 grados Centigrados\n",
      "77 grados Farenheit son 25.0 grados Centigrados\n",
      "78 grados Farenheit son 25.6 grados Centigrados\n",
      "79 grados Farenheit son 26.1 grados Centigrados\n",
      "80 grados Farenheit son 26.7 grados Centigrados\n",
      "81 grados Farenheit son 27.2 grados Centigrados\n",
      "82 grados Farenheit son 27.8 grados Centigrados\n",
      "83 grados Farenheit son 28.3 grados Centigrados\n",
      "84 grados Farenheit son 28.9 grados Centigrados\n",
      "85 grados Farenheit son 29.4 grados Centigrados\n",
      "86 grados Farenheit son 30.0 grados Centigrados\n",
      "87 grados Farenheit son 30.6 grados Centigrados\n",
      "88 grados Farenheit son 31.1 grados Centigrados\n",
      "89 grados Farenheit son 31.7 grados Centigrados\n",
      "90 grados Farenheit son 32.2 grados Centigrados\n",
      "91 grados Farenheit son 32.8 grados Centigrados\n",
      "92 grados Farenheit son 33.3 grados Centigrados\n",
      "93 grados Farenheit son 33.9 grados Centigrados\n",
      "94 grados Farenheit son 34.4 grados Centigrados\n",
      "95 grados Farenheit son 35.0 grados Centigrados\n",
      "96 grados Farenheit son 35.6 grados Centigrados\n",
      "97 grados Farenheit son 36.1 grados Centigrados\n",
      "98 grados Farenheit son 36.7 grados Centigrados\n",
      "99 grados Farenheit son 37.2 grados Centigrados\n",
      "100 grados Farenheit son 37.8 grados Centigrados\n",
      "101 grados Farenheit son 38.3 grados Centigrados\n",
      "102 grados Farenheit son 38.9 grados Centigrados\n",
      "103 grados Farenheit son 39.4 grados Centigrados\n",
      "104 grados Farenheit son 40.0 grados Centigrados\n",
      "105 grados Farenheit son 40.6 grados Centigrados\n",
      "106 grados Farenheit son 41.1 grados Centigrados\n",
      "107 grados Farenheit son 41.7 grados Centigrados\n",
      "108 grados Farenheit son 42.2 grados Centigrados\n",
      "109 grados Farenheit son 42.8 grados Centigrados\n",
      "110 grados Farenheit son 43.3 grados Centigrados\n",
      "111 grados Farenheit son 43.9 grados Centigrados\n",
      "112 grados Farenheit son 44.4 grados Centigrados\n",
      "113 grados Farenheit son 45.0 grados Centigrados\n",
      "114 grados Farenheit son 45.6 grados Centigrados\n",
      "115 grados Farenheit son 46.1 grados Centigrados\n",
      "116 grados Farenheit son 46.7 grados Centigrados\n",
      "117 grados Farenheit son 47.2 grados Centigrados\n",
      "118 grados Farenheit son 47.8 grados Centigrados\n",
      "119 grados Farenheit son 48.3 grados Centigrados\n",
      "120 grados Farenheit son 48.9 grados Centigrados\n"
     ]
    }
   ],
   "source": [
    "# Sol:\n",
    "for i in range(0,121):\n",
    "    print(('%d grados Farenheit son %.1f grados Centigrados')%(i,convertirF2C(i)))\n",
    "   "
   ]
  },
  {
   "cell_type": "markdown",
   "metadata": {},
   "source": [
    "#### 6 Ejercicio\n",
    "\n",
    "Los 15 primeros números triangulares son:\n",
    "\n",
    "```\n",
    "[0, 1, 3, 6, 10, 15, 21, 28, 36, 45, 55, 66, 78, 91, 105]\n",
    "```\n",
    "\n",
    "Define una función __triang_1__ que reciba un número entero positivo $n$ como argumento y genere la lista de los `n` primeros números triangulares. Resuelve el problema aplicando la fórmula a_n = n * (n + 1) / 2. __Utiliza listas por comprensión__.\n",
    "\n",
    "__Nota:__\n",
    "\n",
    "* Genera primero los n primeros números comenzando por el 0 y utilizando la función __range__.\n",
    "\n",
    "\n"
   ]
  },
  {
   "cell_type": "code",
   "execution_count": 4,
   "metadata": {},
   "outputs": [
    {
     "data": {
      "text/plain": [
       "[0.0,\n",
       " 1.0,\n",
       " 3.0,\n",
       " 6.0,\n",
       " 10.0,\n",
       " 15.0,\n",
       " 21.0,\n",
       " 28.0,\n",
       " 36.0,\n",
       " 45.0,\n",
       " 55.0,\n",
       " 66.0,\n",
       " 78.0,\n",
       " 91.0,\n",
       " 105.0]"
      ]
     },
     "execution_count": 4,
     "metadata": {},
     "output_type": "execute_result"
    }
   ],
   "source": [
    "# Sol:\n",
    "def triang_1(n):\n",
    "    l=[]\n",
    "    for i in range(n):\n",
    "        l.append(i*(i+1)/2)\n",
    "    return l"
   ]
  },
  {
   "cell_type": "code",
   "execution_count": 6,
   "metadata": {},
   "outputs": [
    {
     "data": {
      "text/plain": [
       "[0.0,\n",
       " 1.0,\n",
       " 3.0,\n",
       " 6.0,\n",
       " 10.0,\n",
       " 15.0,\n",
       " 21.0,\n",
       " 28.0,\n",
       " 36.0,\n",
       " 45.0,\n",
       " 55.0,\n",
       " 66.0,\n",
       " 78.0,\n",
       " 91.0,\n",
       " 105.0]"
      ]
     },
     "execution_count": 6,
     "metadata": {},
     "output_type": "execute_result"
    }
   ],
   "source": [
    "# Sol:\n",
    "def triang_1(n):\n",
    "    numeros=[]\n",
    "    numeros=[a*(a+1)/2 for a in range(n)]\n",
    "    return numeros\n",
    "triang_1(15)"
   ]
  },
  {
   "cell_type": "markdown",
   "metadata": {},
   "source": [
    "#### 7 Ejercicio\n",
    "\n",
    "Dado el diccionario de las ciudades más pobladas de Italia __ciudades__:\n",
    "\n",
    "d =  { 1: 'Roma', 2: 'Milán', 3:'Nápoles', 4:'Turín', 5:'Palermo' ,6: 'Génova',\n",
    "      7:'Bolonia', 8:'Florencia', 9:'Bari', 10:'Catania'}\n",
    "      \n",
    "y la lista __pob__ que contiene información de la cantidad de población en cada ciudad:\n",
    "\n",
    "pob =  [2718768, 1299633, 973132, 908263, 663173, 610887, 372256, 364710, 322511, 298957]\n",
    "\n",
    "* crea un nuevo diccionario donde cada elemento sea de la forma\n",
    "\n",
    "__i: [ciudad,poblacion]__\n",
    "\n",
    "__Nota__: Utiliza listas por comprensión. La función __enumerate__ también te puede ayudar."
   ]
  },
  {
   "cell_type": "code",
   "execution_count": 19,
   "metadata": {},
   "outputs": [
    {
     "data": {
      "text/plain": [
       "[{1: [2718768, 'Roma']},\n",
       " {2: [1299633, 'Milán']},\n",
       " {3: [973132, 'Nápoles']},\n",
       " {4: [908263, 'Turín']},\n",
       " {5: [663173, 'Palermo']},\n",
       " {6: [610887, 'Génova']},\n",
       " {7: [372256, 'Bolonia']},\n",
       " {8: [364710, 'Florencia']},\n",
       " {9: [322511, 'Bari']},\n",
       " {10: [298957, 'Catania']}]"
      ]
     },
     "execution_count": 19,
     "metadata": {},
     "output_type": "execute_result"
    }
   ],
   "source": [
    "pob = [2718768, 1299633, 973132, 908263, 663173, 610887, 372256, 364710, \n",
    "       322511, 298957]\n",
    "d = { 1: 'Roma', 2: 'Milán', 3:'Nápoles', 4:'Turín', 5:'Palermo' ,\n",
    "     6: 'Génova',   \\\n",
    "      7:'Bolonia', 8:'Florencia', 9:'Bari', 10:'Catania'}\n",
    "# Sol\n",
    "#i={}\n",
    "#for (n,cd) in enumerate(d):\n",
    "    #i.append([pob[n],d[cd]])\n",
    "#    i.update({cd:[pob[n],d[cd]]})\n",
    "#i\n",
    "\n",
    "    \n",
    "dic=[ {cd:[pob[n],d[cd]]} for (n,cd) in enumerate(d)]\n",
    "dic"
   ]
  }
 ],
 "metadata": {
  "anaconda-cloud": {},
  "kernelspec": {
   "display_name": "Python 3",
   "language": "python",
   "name": "python3"
  },
  "language_info": {
   "codemirror_mode": {
    "name": "ipython",
    "version": 3
   },
   "file_extension": ".py",
   "mimetype": "text/x-python",
   "name": "python",
   "nbconvert_exporter": "python",
   "pygments_lexer": "ipython3",
   "version": "3.6.1"
  },
  "toc": {
   "colors": {
    "hover_highlight": "#DAA520",
    "running_highlight": "#FF0000",
    "selected_highlight": "#FFD700"
   },
   "moveMenuLeft": true,
   "nav_menu": {
    "height": "161px",
    "width": "252px"
   },
   "navigate_menu": true,
   "number_sections": true,
   "sideBar": true,
   "threshold": 4,
   "toc_cell": false,
   "toc_section_display": "block",
   "toc_window_display": false,
   "widenNotebook": false
  }
 },
 "nbformat": 4,
 "nbformat_minor": 1
}
