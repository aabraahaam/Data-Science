{
 "cells": [
  {
   "cell_type": "code",
   "execution_count": 1,
   "metadata": {
    "collapsed": true
   },
   "outputs": [],
   "source": [
    "import re\n",
    "import datetime\n",
    "import os\n",
    "\n",
    "from pyspark.sql import Row\n",
    "from pyspark import SparkContext"
   ]
  },
  {
   "cell_type": "code",
   "execution_count": 2,
   "metadata": {
    "collapsed": true
   },
   "outputs": [],
   "source": [
    "month_map = {'Jan': 1, 'Feb': 2, 'Mar':3, 'Apr':4, 'May':5, 'Jun':6, 'Jul':7,\n",
    "    'Aug':8,  'Sep': 9, 'Oct':10, 'Nov': 11, 'Dec': 12}\n",
    "\n",
    "APACHE_ACCESS_LOG_PATTERN = '^(\\S+) (\\S+) (\\S+) \\[([\\w:/]+\\s[+\\-]\\d{4})\\] \"(\\S+) (\\S+)\\s*(\\S*)\" (\\d{3}) (\\S+)'"
   ]
  },
  {
   "cell_type": "code",
   "execution_count": 3,
   "metadata": {
    "collapsed": true
   },
   "outputs": [],
   "source": [
    "def parse_apache_time(s):\n",
    "\n",
    "    \"\"\" Convert Apache time format into a Python datetime object\n",
    "    Args:\n",
    "        s (str): date and time in Apache time format\n",
    "    Returns:\n",
    "        datetime: datetime object (ignore timezone for now)\n",
    "    \"\"\"\n",
    "    return datetime.datetime(int(s[7:11]),\n",
    "                             month_map[s[3:6]],\n",
    "                             int(s[0:2]),\n",
    "                             int(s[12:14]),\n",
    "                             int(s[15:17]),\n",
    "                             int(s[18:20]))\n",
    "\n"
   ]
  },
  {
   "cell_type": "code",
   "execution_count": 5,
   "metadata": {
    "collapsed": true
   },
   "outputs": [],
   "source": [
    "def parseApacheLogLine(logline):\n",
    "\n",
    "    \"\"\" Parse a line in the Apache Common Log format\n",
    "    Args:\n",
    "        logline (str): a line of text in the Apache Common Log format\n",
    "    Returns:\n",
    "        tuple: either a dictionary containing the parts of the Apache Access Log and 1,\n",
    "               or the original invalid log line and 0\n",
    "    \"\"\"\n",
    "\n",
    "    # A regular expression pattern to extract fields from the log line\n",
    "\n",
    "    match = re.search(APACHE_ACCESS_LOG_PATTERN, logline)\n",
    "    if match is None:\n",
    "        return (logline, 0)\n",
    "    size_field = match.group(9)\n",
    "    if size_field == '-':\n",
    "        size = long(0)\n",
    "    else:\n",
    "        size = long(match.group(9))\n",
    "    return (Row(\n",
    "        host          = match.group(1),\n",
    "        client_identd = match.group(2),\n",
    "        user_id       = match.group(3),\n",
    "        date_time     = parse_apache_time(match.group(4)),\n",
    "        method        = match.group(5),\n",
    "        endpoint      = match.group(6),\n",
    "        protocol      = match.group(7),\n",
    "        response_code = int(match.group(8)),\n",
    "        content_size  = size\n",
    "    ), 1)\n"
   ]
  },
  {
   "cell_type": "code",
   "execution_count": 8,
   "metadata": {
    "collapsed": false
   },
   "outputs": [],
   "source": [
    "def parseLogs():\n",
    "\n",
    "    \"\"\" Read and parse log file \"\"\"\n",
    "    logFile = os.path.join('apache.access.log_small')\n",
    "    parsed_logs = (sc\n",
    "                   .textFile(logFile)\n",
    "                   .map(parseApacheLogLine)\n",
    "                   .cache())\n",
    "\n",
    "    access_logs = (parsed_logs\n",
    "                   .filter(lambda s: s[1] == 1)\n",
    "                   .map(lambda s: s[0])\n",
    "                   .cache())\n",
    "\n",
    "    failed_logs = (parsed_logs\n",
    "                   .filter(lambda s: s[1] == 0)\n",
    "                   .map(lambda s: s[0]))\n",
    "    failed_logs_count = failed_logs.count()\n",
    "    if failed_logs_count > 0:\n",
    "        print 'Number of invalid logline: %d' % failed_logs.count()\n",
    "        for line in failed_logs.take(20):\n",
    "            print 'Invalid logline: %s' % line\n",
    "\n",
    "    print 'Read %d lines, successfully parsed %d lines, failed to parse %d lines' % (parsed_logs.count(), access_logs.count(), failed_logs.count())\n",
    "    return parsed_logs, access_logs, failed_logs"
   ]
  },
  {
   "cell_type": "code",
   "execution_count": 13,
   "metadata": {
    "collapsed": false
   },
   "outputs": [],
   "source": [
    "sc= SparkContext()"
   ]
  },
  {
   "cell_type": "code",
   "execution_count": 14,
   "metadata": {
    "collapsed": false
   },
   "outputs": [
    {
     "name": "stdout",
     "output_type": "stream",
     "text": [
      "Read 3432 lines, successfully parsed 3432 lines, failed to parse 0 lines\n"
     ]
    }
   ],
   "source": [
    "parsed_logs, access_logs, failed_logs = parseLogs()"
   ]
  },
  {
   "cell_type": "code",
   "execution_count": 15,
   "metadata": {
    "collapsed": false
   },
   "outputs": [
    {
     "data": {
      "text/plain": [
       "[(Row(client_identd=u'-', content_size=1839L, date_time=datetime.datetime(1995, 8, 1, 0, 0, 1), endpoint=u'/shuttle/missions/sts-68/news/sts-68-mcc-05.txt', host=u'in24.inetnebr.com', method=u'GET', protocol=u'HTTP/1.0', response_code=200, user_id=u'-'),\n",
       "  1)]"
      ]
     },
     "execution_count": 15,
     "metadata": {},
     "output_type": "execute_result"
    }
   ],
   "source": [
    "parsed_logs.take(1)"
   ]
  },
  {
   "cell_type": "code",
   "execution_count": 24,
   "metadata": {
    "collapsed": false
   },
   "outputs": [
    {
     "data": {
      "text/plain": [
       "[Row(client_identd=u'-', content_size=1839L, date_time=datetime.datetime(1995, 8, 1, 0, 0, 1), endpoint=u'/shuttle/missions/sts-68/news/sts-68-mcc-05.txt', host=u'in24.inetnebr.com', method=u'GET', protocol=u'HTTP/1.0', response_code=200, user_id=u'-')]"
      ]
     },
     "execution_count": 24,
     "metadata": {},
     "output_type": "execute_result"
    }
   ],
   "source": [
    "access_logs.take(1)"
   ]
  },
  {
   "cell_type": "markdown",
   "metadata": {},
   "source": [
    "# Resolviendo con SQL"
   ]
  },
  {
   "cell_type": "code",
   "execution_count": 16,
   "metadata": {
    "collapsed": true
   },
   "outputs": [],
   "source": [
    "from pyspark.sql import SQLContext\n",
    "sqlContext = SQLContext(sc)"
   ]
  },
  {
   "cell_type": "code",
   "execution_count": 25,
   "metadata": {
    "collapsed": true
   },
   "outputs": [],
   "source": [
    "interactions_df = sqlContext.createDataFrame(access_logs)"
   ]
  },
  {
   "cell_type": "code",
   "execution_count": 26,
   "metadata": {
    "collapsed": true
   },
   "outputs": [],
   "source": [
    "interactions_df.registerTempTable(\"interactions\")"
   ]
  },
  {
   "cell_type": "code",
   "execution_count": 32,
   "metadata": {
    "collapsed": false
   },
   "outputs": [
    {
     "data": {
      "text/plain": [
       "DataFrame[client_identd: string, content_size: bigint, date_time: timestamp, endpoint: string, host: string, method: string, protocol: string, response_code: bigint, user_id: string]"
      ]
     },
     "execution_count": 32,
     "metadata": {},
     "output_type": "execute_result"
    }
   ],
   "source": [
    "interactions_df"
   ]
  },
  {
   "cell_type": "markdown",
   "metadata": {},
   "source": [
    "Máximo"
   ]
  },
  {
   "cell_type": "code",
   "execution_count": 117,
   "metadata": {
    "collapsed": false
   },
   "outputs": [
    {
     "name": "stdout",
     "output_type": "stream",
     "text": [
      "+------+\n",
      "|Maximo|\n",
      "+------+\n",
      "|887988|\n",
      "+------+\n",
      "\n"
     ]
    }
   ],
   "source": [
    "tcp_interactions = sqlContext.sql(\"\"\"SELECT max(content_size) as Maximo FROM interactions\"\"\")\n",
    "tcp_interactions.show()"
   ]
  },
  {
   "cell_type": "markdown",
   "metadata": {},
   "source": [
    "Mínimo"
   ]
  },
  {
   "cell_type": "code",
   "execution_count": 118,
   "metadata": {
    "collapsed": false
   },
   "outputs": [
    {
     "name": "stdout",
     "output_type": "stream",
     "text": [
      "+------+\n",
      "|Minimo|\n",
      "+------+\n",
      "|     0|\n",
      "+------+\n",
      "\n"
     ]
    }
   ],
   "source": [
    "tcp_interactions = sqlContext.sql(\"\"\"SELECT min(content_size) as Minimo FROM interactions\"\"\")\n",
    "tcp_interactions.show()"
   ]
  },
  {
   "cell_type": "markdown",
   "metadata": {},
   "source": [
    "Media"
   ]
  },
  {
   "cell_type": "code",
   "execution_count": 119,
   "metadata": {
    "collapsed": false
   },
   "outputs": [
    {
     "name": "stdout",
     "output_type": "stream",
     "text": [
      "+------------------+\n",
      "|             Media|\n",
      "+------------------+\n",
      "|16051.863636363636|\n",
      "+------------------+\n",
      "\n"
     ]
    }
   ],
   "source": [
    "tcp_interactions = sqlContext.sql(\"\"\"SELECT mean(content_size) as Media FROM interactions\"\"\")\n",
    "tcp_interactions.show()"
   ]
  },
  {
   "cell_type": "markdown",
   "metadata": {},
   "source": [
    "Número de peticiones por response code"
   ]
  },
  {
   "cell_type": "code",
   "execution_count": 115,
   "metadata": {
    "collapsed": false
   },
   "outputs": [
    {
     "data": {
      "text/plain": [
       "[Row(response_code=304, count=219),\n",
       " Row(response_code=404, count=22),\n",
       " Row(response_code=403, count=1),\n",
       " Row(response_code=200, count=3140),\n",
       " Row(response_code=302, count=50)]"
      ]
     },
     "execution_count": 115,
     "metadata": {},
     "output_type": "execute_result"
    }
   ],
   "source": [
    "x=interactions_df.groupBy('response_code').count().collect()\n",
    "x"
   ]
  },
  {
   "cell_type": "code",
   "execution_count": 86,
   "metadata": {
    "collapsed": false
   },
   "outputs": [
    {
     "name": "stdout",
     "output_type": "stream",
     "text": [
      "+----+-------------+\n",
      "|Suma|response_code|\n",
      "+----+-------------+\n",
      "| 219|          304|\n",
      "|  22|          404|\n",
      "|   1|          403|\n",
      "|3140|          200|\n",
      "|  50|          302|\n",
      "+----+-------------+\n",
      "\n"
     ]
    }
   ],
   "source": [
    "tcp_interactions = sqlContext.sql(\"\"\"SELECT COUNT(*) AS Suma,response_code FROM interactions GROUP BY response_code \"\"\")\n",
    "tcp_interactions.show()"
   ]
  },
  {
   "cell_type": "markdown",
   "metadata": {},
   "source": [
    "20 hosts que han sido visitados mas de 10 veces"
   ]
  },
  {
   "cell_type": "code",
   "execution_count": 75,
   "metadata": {
    "collapsed": false
   },
   "outputs": [
    {
     "name": "stdout",
     "output_type": "stream",
     "text": [
      "+----+--------------------+\n",
      "|Suma|                host|\n",
      "+----+--------------------+\n",
      "|  55|   in24.inetnebr.com|\n",
      "|  28|www-b5.proxy.aol.com|\n",
      "|  78|ix-min1-02.ix.net...|\n",
      "|  29|term1-24.sb.west.net|\n",
      "|  31|       193.84.66.147|\n",
      "|  32|haraway.ucet.ufl.edu|\n",
      "|  40|hsccs_gatorbox07....|\n",
      "|  21|    sakura.crl.go.jp|\n",
      "|  27| rpgopher.aist.go.jp|\n",
      "|  27|www-d3.proxy.aol.com|\n",
      "|  30|www-c1.proxy.aol.com|\n",
      "|  40|www-b2.proxy.aol.com|\n",
      "|  37|  port13.wavenet.com|\n",
      "|  26|piweba1y.prodigy.com|\n",
      "|  41|ppp1016.po.iijnet...|\n",
      "|  24|stockyard58.onram...|\n",
      "|  37|        133.43.96.45|\n",
      "|  21|      205.161.163.25|\n",
      "|  39|www-d1.proxy.aol.com|\n",
      "|  33|       pc-heh.icl.dk|\n",
      "+----+--------------------+\n",
      "only showing top 20 rows\n",
      "\n"
     ]
    }
   ],
   "source": [
    "tcp_interactions = sqlContext.sql(\"\"\"SELECT COUNT(*) as Suma,host FROM interactions group by host HAVING COUNT(host) > 20\"\"\")\n",
    "tcp_interactions.show()"
   ]
  },
  {
   "cell_type": "markdown",
   "metadata": {},
   "source": [
    "10 endpoints más visitados"
   ]
  },
  {
   "cell_type": "code",
   "execution_count": 78,
   "metadata": {
    "collapsed": false
   },
   "outputs": [
    {
     "name": "stdout",
     "output_type": "stream",
     "text": [
      "+----+--------------------+\n",
      "|Suma|            endpoint|\n",
      "+----+--------------------+\n",
      "| 167|/images/KSC-logos...|\n",
      "| 160|/images/NASA-logo...|\n",
      "| 122|/images/MOSAIC-lo...|\n",
      "| 120|/images/WORLD-log...|\n",
      "| 118|/images/USA-logos...|\n",
      "| 106|/images/ksclogo-m...|\n",
      "|  85|                   /|\n",
      "|  74|/history/apollo/i...|\n",
      "|  69|/images/launch-lo...|\n",
      "|  66|/images/ksclogosm...|\n",
      "|  54|/shuttle/missions...|\n",
      "|  50|/images/launchmed...|\n",
      "|  49|/shuttle/countdow...|\n",
      "|  45|           /ksc.html|\n",
      "|  44| /shuttle/countdown/|\n",
      "|  34|/shuttle/missions...|\n",
      "|  32|    /icons/blank.xbm|\n",
      "|  32|     /icons/menu.xbm|\n",
      "|  32|/history/apollo/i...|\n",
      "|  30|            /images/|\n",
      "+----+--------------------+\n",
      "only showing top 20 rows\n",
      "\n"
     ]
    }
   ],
   "source": [
    "tcp_interactions = sqlContext.sql(\"\"\"SELECT COUNT(*) as Suma,endpoint FROM interactions group by endpoint order by count(*) desc\"\"\")\n",
    "tcp_interactions.show()"
   ]
  },
  {
   "cell_type": "markdown",
   "metadata": {},
   "source": [
    "10 endpoints más visitados que no tienen codigo de respuesta 200"
   ]
  },
  {
   "cell_type": "code",
   "execution_count": 149,
   "metadata": {
    "collapsed": false
   },
   "outputs": [
    {
     "name": "stdout",
     "output_type": "stream",
     "text": [
      "+----+--------------------+\n",
      "|Suma|            endpoint|\n",
      "+----+--------------------+\n",
      "|  25|/images/NASA-logo...|\n",
      "|  24|/images/KSC-logos...|\n",
      "|  17|/images/MOSAIC-lo...|\n",
      "|  17|/images/WORLD-log...|\n",
      "|  16|/images/USA-logos...|\n",
      "|  10|/images/ksclogo-m...|\n",
      "|   8|/images/construct...|\n",
      "|   8|/software/winvn/w...|\n",
      "|   8|/software/winvn/b...|\n",
      "|   6|/software/winvn/w...|\n",
      "|   6|/software/winvn/w...|\n",
      "|   5|/images/ksclogosm...|\n",
      "|   5|                   /|\n",
      "|   5|/shuttle/countdow...|\n",
      "|   5|/history/apollo/i...|\n",
      "|   4|/pub/winvn/releas...|\n",
      "|   4|    /icons/blank.xbm|\n",
      "|   4|     /icons/menu.xbm|\n",
      "|   4| /shuttle/countdown/|\n",
      "|   4|/history/apollo/a...|\n",
      "+----+--------------------+\n",
      "only showing top 20 rows\n",
      "\n"
     ]
    }
   ],
   "source": [
    "tcp_interactions = sqlContext.sql(\"\"\"SELECT COUNT(*) as Suma,endpoint FROM interactions where response_code !=200 group by endpoint order by count(*) desc\"\"\")\n",
    "tcp_interactions.show()"
   ]
  },
  {
   "cell_type": "markdown",
   "metadata": {},
   "source": [
    "Número de hosts distintos"
   ]
  },
  {
   "cell_type": "code",
   "execution_count": 87,
   "metadata": {
    "collapsed": false
   },
   "outputs": [
    {
     "data": {
      "text/plain": [
       "311"
      ]
     },
     "execution_count": 87,
     "metadata": {},
     "output_type": "execute_result"
    }
   ],
   "source": [
    "tcp_interactions = sqlContext.sql(\"\"\"SELECT COUNT(*) as Suma,host FROM interactions group by host\"\"\")\n",
    "tcp_interactions.count()"
   ]
  },
  {
   "cell_type": "markdown",
   "metadata": {},
   "source": [
    "Número de hosts unicos cada día"
   ]
  },
  {
   "cell_type": "code",
   "execution_count": 145,
   "metadata": {
    "collapsed": false
   },
   "outputs": [
    {
     "name": "stdout",
     "output_type": "stream",
     "text": [
      "+--------------------+\n",
      "|           date_time|\n",
      "+--------------------+\n",
      "|1995-08-01 00:01:...|\n",
      "|1995-08-01 00:16:...|\n",
      "|1995-08-01 00:23:...|\n",
      "|1995-08-01 00:23:...|\n",
      "|1995-08-01 00:24:...|\n",
      "|1995-08-01 00:28:...|\n",
      "|1995-08-01 00:32:...|\n",
      "|1995-08-01 00:36:...|\n",
      "|1995-08-01 00:38:...|\n",
      "|1995-08-01 00:51:...|\n",
      "|1995-08-01 00:52:...|\n",
      "|1995-08-01 00:53:...|\n",
      "|1995-08-01 00:55:...|\n",
      "|1995-08-01 00:59:...|\n",
      "|1995-08-01 01:02:...|\n",
      "|1995-08-01 01:31:...|\n",
      "|1995-08-01 01:36:...|\n",
      "|1995-08-01 01:38:...|\n",
      "|1995-08-01 01:46:...|\n",
      "|1995-08-01 01:53:...|\n",
      "+--------------------+\n",
      "only showing top 20 rows\n",
      "\n"
     ]
    }
   ],
   "source": [
    "tcp_interactions = sqlContext.sql(\"\"\"SELECT DISTINCT date_time FROM interactions\"\"\")\n",
    "tcp_interactions.show()"
   ]
  },
  {
   "cell_type": "code",
   "execution_count": 138,
   "metadata": {
    "collapsed": false
   },
   "outputs": [],
   "source": [
    "x=interactions_df.groupBy('date_time').count().collect()"
   ]
  },
  {
   "cell_type": "code",
   "execution_count": 155,
   "metadata": {
    "collapsed": false
   },
   "outputs": [
    {
     "name": "stdout",
     "output_type": "stream",
     "text": [
      "+---+\n",
      "|day|\n",
      "+---+\n",
      "|  1|\n",
      "+---+\n",
      "\n"
     ]
    }
   ],
   "source": [
    "tcp_interactions = sqlContext.sql(\"\"\" SELECT day(date_time) as day FROM interactions group by day(date_time)\"\"\")\n",
    "tcp_interactions.show()"
   ]
  },
  {
   "cell_type": "code",
   "execution_count": 162,
   "metadata": {
    "collapsed": false
   },
   "outputs": [
    {
     "name": "stdout",
     "output_type": "stream",
     "text": [
      "+---+\n",
      "|day|\n",
      "+---+\n",
      "| 01|\n",
      "+---+\n",
      "\n"
     ]
    }
   ],
   "source": [
    "tcp_interactions = sqlContext.sql(\"\"\" SELECT distinct substring(date_time,9,2) as day FROM interactions\"\"\")\n",
    "tcp_interactions.show()\n"
   ]
  },
  {
   "cell_type": "markdown",
   "metadata": {},
   "source": [
    "Media de peticiones diarias por host"
   ]
  },
  {
   "cell_type": "code",
   "execution_count": 111,
   "metadata": {
    "collapsed": false
   },
   "outputs": [
    {
     "name": "stdout",
     "output_type": "stream",
     "text": [
      "+-------------------------+--------------------+\n",
      "|avg(CAST(host AS DOUBLE))|                host|\n",
      "+-------------------------+--------------------+\n",
      "|                     null|ix-sea6-23.ix.net...|\n",
      "|                     null|grimnet23.idirect...|\n",
      "|                     null|        hella.stm.it|\n",
      "|                     null|       198.161.85.36|\n",
      "|                     null|ix-sd6-29.ix.netc...|\n",
      "|                     null|     info.telenor.no|\n",
      "|                     null|dd08-029.compuser...|\n",
      "|                     null|engei.engei-hs.oy...|\n",
      "|                     null|  server.indo.net.id|\n",
      "|                     null|in2pc2.med.niigat...|\n",
      "|                     null|ix-sf10-28.ix.net...|\n",
      "|                     null|ip-pdx4-15.telepo...|\n",
      "|                     null|   in24.inetnebr.com|\n",
      "|                     null|  pwestec.sierra.net|\n",
      "|                     null|roseanne06.slip.y...|\n",
      "|                     null|     204.199.188.113|\n",
      "|                     null|        206.24.43.11|\n",
      "|                     null|empedocles.cfar.u...|\n",
      "|                     null|     pm6a3.sover.net|\n",
      "|                     null|www-b5.proxy.aol.com|\n",
      "+-------------------------+--------------------+\n",
      "only showing top 20 rows\n",
      "\n"
     ]
    }
   ],
   "source": [
    "tcp_interactions = sqlContext.sql(\"\"\"SELECT mean(host),host FROM interactions group by host\"\"\")\n",
    "tcp_interactions.show()"
   ]
  },
  {
   "cell_type": "markdown",
   "metadata": {},
   "source": [
    "40 endpoints distintos con response code 404"
   ]
  },
  {
   "cell_type": "code",
   "execution_count": 114,
   "metadata": {
    "collapsed": false
   },
   "outputs": [
    {
     "name": "stdout",
     "output_type": "stream",
     "text": [
      "+--------------------+\n",
      "|            endpoint|\n",
      "+--------------------+\n",
      "|/pub/winvn/readme...|\n",
      "|/elv/DELTA/uncons...|\n",
      "|/history/apollo/a...|\n",
      "|/history/apollo/a...|\n",
      "|     /sts-71/launch/|\n",
      "|/history/apollo/a...|\n",
      "|/history/apollo/a...|\n",
      "|/shuttle/resource...|\n",
      "|/www/software/win...|\n",
      "|/pub/winvn/releas...|\n",
      "|/history/apollo/a...|\n",
      "|/history/apollo/a...|\n",
      "|/history/history.htm|\n",
      "+--------------------+\n",
      "\n"
     ]
    }
   ],
   "source": [
    "tcp_interactions = sqlContext.sql(\"\"\"SELECT DISTINCT endpoint FROM interactions where response_code=404\"\"\")\n",
    "tcp_interactions.show()"
   ]
  },
  {
   "cell_type": "markdown",
   "metadata": {},
   "source": [
    "Top 25 endpoints que más codigos 404 de respuesta generan"
   ]
  },
  {
   "cell_type": "markdown",
   "metadata": {},
   "source": [
    "Top 5 días que mas se generaron codigos 404"
   ]
  },
  {
   "cell_type": "markdown",
   "metadata": {},
   "source": [
    "# Resolviendo con spark"
   ]
  },
  {
   "cell_type": "code",
   "execution_count": 12,
   "metadata": {
    "collapsed": true
   },
   "outputs": [],
   "source": [
    "sc.stop()"
   ]
  }
 ],
 "metadata": {
  "kernelspec": {
   "display_name": "Python 2",
   "language": "python",
   "name": "python2"
  },
  "language_info": {
   "codemirror_mode": {
    "name": "ipython",
    "version": 2
   },
   "file_extension": ".py",
   "mimetype": "text/x-python",
   "name": "python",
   "nbconvert_exporter": "python",
   "pygments_lexer": "ipython2",
   "version": "2.7.12"
  }
 },
 "nbformat": 4,
 "nbformat_minor": 2
}
